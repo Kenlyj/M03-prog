{
 "cells": [
  {
   "cell_type": "code",
   "execution_count": 1,
   "id": "ba36e7c5-27c4-47de-9a15-6afaa432928a",
   "metadata": {},
   "outputs": [],
   "source": [
    "things = [\"mozzarella\", \"cinderella\", \"salmonella\"]\n"
   ]
  },
  {
   "cell_type": "code",
   "execution_count": 2,
   "id": "91a915f4-0c9f-479a-a8fd-3fba528d4725",
   "metadata": {},
   "outputs": [
    {
     "name": "stdout",
     "output_type": "stream",
     "text": [
      "['mozzarella', 'Cinderella', 'salmonella']\n"
     ]
    }
   ],
   "source": [
    "things = [\"mozzarella\", \"cinderella\", \"salmonella\"]\n",
    "\n",
    "# Find the index of the element referring to a person\n",
    "person_index = things.index(\"cinderella\")\n",
    "\n",
    "# Capitalize the element (creating a new string)\n",
    "things[person_index] = things[person_index].capitalize()\n",
    "\n",
    "# Print the modified list\n",
    "print(things)\n"
   ]
  },
  {
   "cell_type": "code",
   "execution_count": 3,
   "id": "3b274b0b-0351-4c45-8898-79bf913c4395",
   "metadata": {},
   "outputs": [
    {
     "name": "stdout",
     "output_type": "stream",
     "text": [
      "['MOZZARELLA', 'cinderella', 'salmonella']\n"
     ]
    }
   ],
   "source": [
    "things = [\"mozzarella\", \"cinderella\", \"salmonella\"]\n",
    "\n",
    "# Find the index of the cheesy element\n",
    "cheesy_index = things.index(\"mozzarella\")\n",
    "\n",
    "# Convert the element to uppercase (creating a new string)\n",
    "things[cheesy_index] = things[cheesy_index].upper()\n",
    "\n",
    "# Print the modified list\n",
    "print(things)\n"
   ]
  },
  {
   "cell_type": "code",
   "execution_count": 4,
   "id": "7930a4c5-1585-4d35-9e48-5f9ea115b7c6",
   "metadata": {},
   "outputs": [
    {
     "name": "stdout",
     "output_type": "stream",
     "text": [
      "['mozzarella', 'cinderella']\n"
     ]
    }
   ],
   "source": [
    "things = [\"mozzarella\", \"cinderella\", \"salmonella\"]\n",
    "\n",
    "# Remove the disease element\n",
    "things.remove(\"salmonella\")\n",
    "\n",
    "# Print the modified list\n",
    "print(things)\n"
   ]
  },
  {
   "cell_type": "code",
   "execution_count": null,
   "id": "0bc60b4a-b6cd-426c-b3e2-edc825a80f76",
   "metadata": {},
   "outputs": [],
   "source": [
    "def good():\n",
    "    return ['Harry', 'Ron', 'Hermione']\n"
   ]
  }
 ],
 "metadata": {
  "kernelspec": {
   "display_name": "Python 3 (ipykernel)",
   "language": "python",
   "name": "python3"
  },
  "language_info": {
   "codemirror_mode": {
    "name": "ipython",
    "version": 3
   },
   "file_extension": ".py",
   "mimetype": "text/x-python",
   "name": "python",
   "nbconvert_exporter": "python",
   "pygments_lexer": "ipython3",
   "version": "3.11.7"
  }
 },
 "nbformat": 4,
 "nbformat_minor": 5
}
